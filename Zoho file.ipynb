{
 "cells": [
  {
   "cell_type": "code",
   "execution_count": 1,
   "metadata": {},
   "outputs": [
    {
     "name": "stdout",
     "output_type": "stream",
     "text": [
      "enter the stringwelcome\n",
      "\n",
      "c\n",
      "co\n",
      "com\n",
      "come\n",
      "come\n",
      "comew\n",
      "comewe\n",
      "comewel\n"
     ]
    }
   ],
   "source": [
    "x=input(\"enter the string\")\n",
    "y=(len(x)//2)   #5/2=2\n",
    "for i in range (y,len(x)+1,1):\n",
    "    print (x[y:i])\n",
    "for j in range(0,y+1):\n",
    "        print (x[y:i]+x[0:j])"
   ]
  },
  {
   "cell_type": "code",
   "execution_count": 2,
   "metadata": {},
   "outputs": [
    {
     "name": "stdout",
     "output_type": "stream",
     "text": [
      "enter the stringwater\n",
      "\n",
      "t\n",
      "te\n",
      "ter\n",
      "ter\n",
      "terw\n",
      "terwa\n"
     ]
    }
   ],
   "source": [
    "x=input(\"enter the string\")\n",
    "y=(len(x)//2)   #5/2=2\n",
    "for i in range (y,len(x)+1,1):\n",
    "    print (x[y:i])\n",
    "for j in range(0,y+1):\n",
    "        print (x[y:i]+x[0:j])"
   ]
  },
  {
   "cell_type": "code",
   "execution_count": null,
   "metadata": {},
   "outputs": [],
   "source": []
  }
 ],
 "metadata": {
  "kernelspec": {
   "display_name": "Python 3",
   "language": "python",
   "name": "python3"
  },
  "language_info": {
   "codemirror_mode": {
    "name": "ipython",
    "version": 3
   },
   "file_extension": ".py",
   "mimetype": "text/x-python",
   "name": "python",
   "nbconvert_exporter": "python",
   "pygments_lexer": "ipython3",
   "version": "3.7.6"
  }
 },
 "nbformat": 4,
 "nbformat_minor": 4
}
